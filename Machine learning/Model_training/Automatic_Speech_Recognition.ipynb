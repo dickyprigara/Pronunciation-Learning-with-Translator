{
  "nbformat": 4,
  "nbformat_minor": 0,
  "metadata": {
    "colab": {
      "name": "Automatic Speech Recognition.ipynb",
      "provenance": [],
      "collapsed_sections": [
        "8KrrzNGd8KCX",
        "5kB9qRz6wVpB",
        "G7s_-PkZvFLS",
        "CUDbmmBX8Vih",
        "tD2s1mpvD5f8",
        "xk_fdc7PkyoN"
      ],
      "toc_visible": true
    },
    "kernelspec": {
      "display_name": "Python 3",
      "name": "python3"
    },
    "language_info": {
      "name": "python"
    },
    "accelerator": "GPU"
  },
  "cells": [
    {
      "cell_type": "code",
      "metadata": {
        "id": "vCI8UwvjIP_J"
      },
      "source": [
        "!pip install tensorflow-io==0.17"
      ],
      "execution_count": null,
      "outputs": []
    },
    {
      "cell_type": "code",
      "metadata": {
        "id": "DJRSZDQuBLS5"
      },
      "source": [
        "import os\n",
        "import pathlib\n",
        "import re\n",
        "import shutil\n",
        "import math\n",
        "import librosa\n",
        "\n",
        "import matplotlib.pyplot as plt\n",
        "import numpy as np\n",
        "import tensorflow as tf\n",
        "import tensorflow_io as tfio\n",
        "\n",
        "from tensorflow.keras.layers.experimental import preprocessing\n",
        "from tensorflow.keras import layers\n",
        "from tensorflow.keras import models\n",
        "from tensorflow import keras\n",
        "from string import ascii_lowercase\n",
        "import librosa.core as lc"
      ],
      "execution_count": null,
      "outputs": []
    },
    {
      "cell_type": "code",
      "metadata": {
        "colab": {
          "base_uri": "https://localhost:8080/"
        },
        "id": "6_xeL13yXsg1",
        "outputId": "978f7caf-d9bb-45ae-b040-34e4dd6732b3"
      },
      "source": [
        "from google.colab import drive\n",
        "drive.mount('/content/drive')"
      ],
      "execution_count": null,
      "outputs": [
        {
          "output_type": "stream",
          "text": [
            "Mounted at /content/drive\n"
          ],
          "name": "stdout"
        }
      ]
    },
    {
      "cell_type": "code",
      "metadata": {
        "id": "o1qLIRBlt_Ek"
      },
      "source": [
        "import zipfile\n",
        "\n",
        "if os.path.exists('/content/drive/MyDrive/Training/training.zip'):\n",
        "  with zipfile.ZipFile('/content/drive/MyDrive/Training/training.zip','r') as f:\n",
        "    f.extractall('./')"
      ],
      "execution_count": null,
      "outputs": []
    },
    {
      "cell_type": "markdown",
      "metadata": {
        "id": "8KrrzNGd8KCX"
      },
      "source": [
        "### GetCleanFile Class\n"
      ]
    },
    {
      "cell_type": "markdown",
      "metadata": {
        "id": "vTydpuOXt6mf"
      },
      "source": [
        "Use for librespeech *dataset*"
      ]
    },
    {
      "cell_type": "code",
      "metadata": {
        "id": "ewBM_6fcbFuq"
      },
      "source": [
        "class GetCleanFile:\n",
        "  def __init__(self, origin, new_path, newer_path, zip_file):\n",
        "    self.origin = origin\n",
        "    self.new_path = new_path\n",
        "    self.newer_path = newer_path\n",
        "    self.zip_file = zip_file\n",
        "    self.train_path = \"\"\n",
        "    \n",
        "    # make new directory to contain organized sub-directory\n",
        "    if not os.path.exists(self.newer_path):\n",
        "      os.mkdir(self.newer_path)\n",
        "  \n",
        "  def __call__(self):\n",
        "    # download data from the web server\n",
        "    data_dir = pathlib.Path(self.new_path)\n",
        "    \n",
        "    if not data_dir.exists():\n",
        "      tf.keras.utils.get_file(\n",
        "          self.zip_file,\n",
        "          origin = self.origin,\n",
        "          extract = True,\n",
        "          cache_dir = '.',\n",
        "          cache_subdir = self.new_path.split('/')[-1])\n",
        "      \n",
        "    return self\n",
        "  \n",
        "  def get_path (self):\n",
        "    '''get data directory path'''\n",
        "    all_file = os.listdir(self.new_path)\n",
        "    dir = [i for i in all_file if not re.match('[\\w]*.zip',i)][0]\n",
        "    path = os.path.join(self.new_path,dir)\n",
        "    train_test_dir = [i for i in os.listdir(path) if not re.match('[\\w]*.TXT',i)][0]\n",
        "    self.train_path = os.path.join(path,train_test_dir)\n",
        "    return self\n",
        "\n",
        "  def get_subdirectory(self):\n",
        "    '''including subdirectories and excluding upper directories'''\n",
        "    return tf.io.gfile.glob(str(self.train_path)+'/*/*')\n",
        "\n",
        "  def rename_and_move_dir(self, dir_names):\n",
        "    ''' rename the sub-directory and move the subdirectory\n",
        "        to another directory'''\n",
        "    for i, dir in enumerate(dir_names):\n",
        "        split_dir = dir.split('/')\n",
        "        split_dir[-1] = str(i)\n",
        "        joined_dir = '/'.join(split_dir)\n",
        "        shutil.move(dir, joined_dir)\n",
        "        shutil.move(joined_dir, self.newer_path)\n",
        "    return self\n",
        "  \n",
        "  def delete_directory(self):\n",
        "    '''delete initial data directory'''\n",
        "    shutil.rmtree(self.new_path)\n",
        "\n",
        "  def clean_label(self, subdirs):\n",
        "    '''process the label so its content does not have filename in front of each\n",
        "        lines'''\n",
        "    for subdir in subdirs:\n",
        "      # Define sub-directory for the new files\n",
        "      new_subdir = subdir.split('/')[:-1]\n",
        "      new_subdir = '/'.join(new_subdir)\n",
        "\n",
        "      with open(subdir, 'r') as f:\n",
        "      \n",
        "        # Read all lines and return as list\n",
        "        lines = f.readlines()\n",
        "\n",
        "        # iterate line by line\n",
        "        for line in lines:\n",
        "          new_name = line.split()[0]\n",
        "          content = ' '.join(line.split()[1:]).lower()\n",
        "          file_subdir = os.path.join(new_subdir, f'{new_name}.txt')\n",
        "          with open(file_subdir, 'w') as new_file:\n",
        "            new_file.write(content)\n",
        "\n",
        "        # delete initial text file\n",
        "        os.remove(subdir)"
      ],
      "execution_count": null,
      "outputs": []
    },
    {
      "cell_type": "markdown",
      "metadata": {
        "id": "WhHwh1RJtvWG"
      },
      "source": [
        "Use for LJ speech dataset"
      ]
    },
    {
      "cell_type": "code",
      "metadata": {
        "id": "cxBwNpKDtsUa"
      },
      "source": [
        "def load_LJdata(new_path, newer_path, data_dirname):\n",
        "  \"\"\"Load LJ speech dataset\n",
        "      Please input data_dirname parameter with 'dirname'\n",
        "      dirname and subdirname are arbitrary alphanumeric string\"\"\"\n",
        "  if not os.path.exists(newer_path):\n",
        "      os.mkdir(newer_path)\n",
        "\n",
        "  data_dirname_status = bool(re.match(r'[\\w\\d]*', data_dirname))\n",
        "  if data_dirname_status:\n",
        "    data_dir = pathlib.Path(new_path)\n",
        "\n",
        "    if not data_dir.exists():\n",
        "      tf.keras.utils.get_file(\n",
        "        os.path.join(os.getcwd(), \"data.tar.gz\"),\n",
        "        \"https://data.keithito.com/data/speech/LJSpeech-1.1.tar.bz2\",\n",
        "        extract=True,\n",
        "        archive_format=\"tar\",\n",
        "        cache_dir=\"./\",\n",
        "      )\n",
        "\n",
        "    audio_dirs = sorted(tf.io.gfile.glob(str(new_path)+'/*/*/*.wav'))\n",
        "    new_data_path = os.path.join(newer_path, data_dirname)\n",
        "\n",
        "    if not os.path.exists(new_data_path):\n",
        "      os.mkdir(new_data_path)\n",
        "      for audio_dir in audio_dirs:\n",
        "        shutil.move(audio_dir, new_data_path)\n",
        "    \n",
        "    try:\n",
        "      text_dir = tf.io.gfile.glob(str(new_path)+'/*/*.csv')[0]\n",
        "      text_dir = pathlib.Path(text_dir)\n",
        "    except IndexError:\n",
        "      pass\n",
        "\n",
        "    try:\n",
        "      if text_dir.exists():\n",
        "        with open((text_dir), encoding=\"utf-8\") as f:\n",
        "          for line in f:\n",
        "            id = line.strip().split(\"|\")[0]\n",
        "            text = line.strip().split(\"|\")[2]\n",
        "            file_subdir = os.path.join(new_data_path, f'{id}.txt')\n",
        "            with open(file_subdir, 'w') as new_file:\n",
        "              new_file.write(text)\n",
        "        os.remove(text_dir)\n",
        "    except UnboundLocalError:\n",
        "      pass\n",
        "\n",
        "  else:\n",
        "    raise Exception(\"data_dirname doesn't match with the requested format\")\n"
      ],
      "execution_count": null,
      "outputs": []
    },
    {
      "cell_type": "markdown",
      "metadata": {
        "id": "5kB9qRz6wVpB"
      },
      "source": [
        "### FileSelection"
      ]
    },
    {
      "cell_type": "code",
      "metadata": {
        "id": "jYt9prXawRO3"
      },
      "source": [
        "class FileFilter:\n",
        "  def __init__(self, path):\n",
        "    self.path = path\n",
        "    self.max_length = 0\n",
        "    self.done = True\n",
        "\n",
        "  def filter_file(self):\n",
        "    \"\"\" Filter file that has more than 10 seconds duration\"\"\"\n",
        "    audio_dirs = tf.io.gfile.glob(str(self.path)+'/*/*.flac')\n",
        "    for dir in audio_dirs:\n",
        "      duration = librosa.get_duration(filename=dir)\n",
        "      if duration > 10.0:\n",
        "        text_path = dir.replace('flac', 'txt')\n",
        "        os.remove(dir)\n",
        "        os.remove(text_path)\n",
        "    self.done = False\n",
        "    return self\n",
        "\n",
        "  def max_character(self):\n",
        "    \"\"\" Return max character in text file\"\"\"\n",
        "    text_dirs = tf.io.gfile.glob(str(self.path)+'/*/*.txt')\n",
        "    lengths = []\n",
        "    for dir in text_dirs:\n",
        "      with open(dir, 'r') as f:\n",
        "        line = f.readlines()[0]\n",
        "        length = len(line)\n",
        "        lengths.append(length)\n",
        "    self.max_length = tf.math.maximum(lengths)\n",
        "    return self.max_length\n"
      ],
      "execution_count": null,
      "outputs": []
    },
    {
      "cell_type": "markdown",
      "metadata": {
        "id": "G7s_-PkZvFLS"
      },
      "source": [
        "### EncodingDecoding Class"
      ]
    },
    {
      "cell_type": "code",
      "metadata": {
        "id": "sb6DOUzMvmj7"
      },
      "source": [
        "class EncodingDecoding:\n",
        "  def __init__(self):\n",
        "    self.char = ([\"-\", \"#\", \"<\", \">\"]\n",
        "                 + [c for c in ascii_lowercase]\n",
        "                 + [\" \", \".\", \",\", \"?\",\"'\"])\n",
        "\n",
        "  def encode_label(self, label):\n",
        "    keys_tensor = tf.constant(self.char)\n",
        "    vals_tensor = tf.constant(np.arange(len(self.char)))\n",
        "    input_tensor = label\n",
        "\n",
        "    table = tf.lookup.StaticHashTable(\n",
        "        tf.lookup.KeyValueTensorInitializer(keys_tensor, vals_tensor),\n",
        "        default_value=30)\n",
        "    \n",
        "    return table.lookup(input_tensor)\n",
        "\n",
        "  def decode_label(self,predicted_label):\n",
        "    keys_tensor = tf.constant(np.arange(len(self.char)))\n",
        "    vals_tensor = tf.constant(self.char)\n",
        "    input_tensor = tf.cast(predicted_label, dtype=tf.int64)\n",
        "\n",
        "    table = tf.lookup.StaticHashTable(\n",
        "        tf.lookup.KeyValueTensorInitializer(keys_tensor, vals_tensor),\n",
        "        default_value='')\n",
        "    \n",
        "    return table.lookup(input_tensor)\n",
        "  \n",
        "  @tf.function\n",
        "  def decode_audio(self, audio_file):\n",
        "    ''' decode flac file to float tensor'''\n",
        "    audio = tfio.IOTensor.graph(tf.int16).from_audio(audio_file)\n",
        "    audio_tensor = tf.squeeze(audio.to_tensor(), axis=-1)\n",
        "    waveform = tf.cast(audio_tensor, tf.float32)/32768.0\n",
        "\n",
        "    return waveform"
      ],
      "execution_count": null,
      "outputs": []
    },
    {
      "cell_type": "markdown",
      "metadata": {
        "id": "CUDbmmBX8Vih"
      },
      "source": [
        "### AudioDataProcessing Class"
      ]
    },
    {
      "cell_type": "code",
      "metadata": {
        "id": "dE6KSIBkfy3Y"
      },
      "source": [
        "class AudioDataProcessing:\n",
        "  def __init__(self):\n",
        "    self.pad_len = 2754\n",
        "\n",
        "  def db_scale(self, S, amin=1e-16, top_db=80.0):\n",
        "    \"\"\"Convert spectrogram to decible units\"\"\"\n",
        "    def _tf_log10(x):\n",
        "        numerator = tf.math.log(x)\n",
        "        denominator = tf.math.log(tf.constant(10, dtype=numerator.dtype))\n",
        "        return numerator / denominator\n",
        "    \n",
        "    ref = tf.reduce_max(S)\n",
        "\n",
        "    log_spec = 10.0 * _tf_log10(tf.maximum(amin, S))\n",
        "    log_spec -= 10.0 * _tf_log10(tf.maximum(amin, ref))\n",
        "\n",
        "    log_spec = tf.maximum(log_spec, tf.reduce_max(log_spec) - top_db)\n",
        "\n",
        "    return log_spec\n",
        "    \n",
        "  def get_spectrogram(self, waveform):\n",
        "    '''Create spectogram from audio wave form'''\n",
        "    #Extracting log spectrogram from audio waveform\n",
        "    waveform = tf.cast(waveform, tf.float32)\n",
        "    spectrogram = tf.signal.stft(\n",
        "        waveform, \n",
        "        frame_length=200, \n",
        "        frame_step=80, \n",
        "        fft_length=256)\n",
        "    log_spectrogram = tf.math.pow(tf.abs(spectrogram), 0.5)\n",
        "    log_spectrogram = self.db_scale(log_spectrogram)\n",
        "\n",
        "    # normalisation\n",
        "    means = tf.math.reduce_mean(log_spectrogram, 1, keepdims=True)\n",
        "    stddevs = tf.math.reduce_std(log_spectrogram, 1, keepdims=True)\n",
        "    x = (log_spectrogram - means) / stddevs\n",
        "    \n",
        "    #padding to 10 seconds\n",
        "    pad_len = self.pad_len\n",
        "    paddings = tf.constant([[0, self.pad_len], [0, 0]])\n",
        "    x = tf.pad(x, paddings, \"CONSTANT\")[:self.pad_len, :]\n",
        "    x = tf.where(tf.math.is_nan(x), tf.ones_like(x) * 0, x)\n",
        "    return x\n",
        "\n",
        "  def spec_augment(self):\n",
        "    '''perform data augmentation for audio log spectrogram'''\n",
        "    param = np.random.randint(1,100)\n",
        "    augmentation = tf.keras.Sequential([\n",
        "       layers.Lambda(lambda x : tfio.experimental.audio.freq_mask(x, param)),\n",
        "       layers.Lambda(lambda x : tfio.experimental.audio.time_mask(x, param))            \n",
        "    ])"
      ],
      "execution_count": null,
      "outputs": []
    },
    {
      "cell_type": "markdown",
      "metadata": {
        "id": "tD2s1mpvD5f8"
      },
      "source": [
        "### GetWaveformLabel Class"
      ]
    },
    {
      "cell_type": "code",
      "metadata": {
        "id": "E6sksXMP-M2v"
      },
      "source": [
        "class GetWaveformLabel(EncodingDecoding):\n",
        "  def __init__(self):\n",
        "    super().__init__()\n",
        "    self.max_length = 200\n",
        "    \n",
        "  def get_waveform_label(self, audio_file, text_file):\n",
        "    # decode WAV audio file\n",
        "    waveform = super().decode_audio(audio_file)\n",
        "    \n",
        "    #convert tensor into str\n",
        "    text = tf.io.read_file(text_file)\n",
        "\n",
        "    #slice text so it will be under 198 character\n",
        "    def string_slice(x):\n",
        "      text_slice = x.numpy()[:self.max_length-2]\n",
        "      return text_slice\n",
        "\n",
        "    text_slice = tf.py_function(func=string_slice, inp=[text], Tout=tf.string)\n",
        "    text_slice.set_shape(text.get_shape())\n",
        "\n",
        "    #split char from whole string\n",
        "    chars = tf.strings.join([b'<', text_slice, b'>'])\n",
        "    chars = tf.strings.bytes_split(chars)\n",
        "    \n",
        "\n",
        "    # encode text file to numeric values  \n",
        "    label = super().encode_label(chars)\n",
        "\n",
        "    zero_padding = tf.zeros([self.max_length] - tf.shape(label), dtype=tf.int64)\n",
        "\n",
        "    # Concatenate encode text with padding so that all encode text will be of the \n",
        "    # same length\n",
        "    label = tf.concat([label, zero_padding], 0)\n",
        "    label = tf.cast(label, dtype=tf.int32)\n",
        "\n",
        "    return waveform, label"
      ],
      "execution_count": null,
      "outputs": []
    },
    {
      "cell_type": "markdown",
      "metadata": {
        "id": "xk_fdc7PkyoN"
      },
      "source": [
        "### GetProcessDataLabel"
      ]
    },
    {
      "cell_type": "code",
      "metadata": {
        "id": "Xt2ggNcgjIFO"
      },
      "source": [
        "class GetProcessDataLabel(AudioDataProcessing):\n",
        "  def __init__(self):\n",
        "    super().__init__()\n",
        "  \n",
        "  def get_process_label(self, waveform, label, train):\n",
        "    x = super().get_spectrogram(waveform)\n",
        "    if train:\n",
        "      x = super().spec_augment()(x)\n",
        "    return x, label"
      ],
      "execution_count": null,
      "outputs": []
    },
    {
      "cell_type": "markdown",
      "metadata": {
        "id": "UMcY4Jtg7tt2"
      },
      "source": [
        "### Model\n",
        "\n",
        "Model is modified version from Apoorv Nandan (https://github.com/keras-team/keras-io/blob/master/examples/audio/transformer_asr.py)"
      ]
    },
    {
      "cell_type": "code",
      "metadata": {
        "id": "yMOkbZOtLaSj"
      },
      "source": [
        "class CharacterErrorRate(tf.keras.metrics.Metric):\n",
        "  def __init__(self, name=\"character_error_rate\", **kwargs):\n",
        "    super().__init__(name=name, **kwargs)\n",
        "    self.error_rate = self.add_weight(name='total_cer', initializer='zeros')\n",
        "    self.counter = self.add_weight(name=\"cer_count\", initializer=\"zeros\")\n",
        "\n",
        "  def update_state(self, y_true, y_pred, sample_weight=None):\n",
        "    logit = tf.argmax(y_pred, axis=-1, output_type=tf.int32)\n",
        "    cast_y = tf.cast(y_true, tf.int32)\n",
        "\n",
        "    sparse_pred = tf.sparse.from_dense(logit)\n",
        "    sparse_true = tf.sparse.from_dense(cast_y)\n",
        "\n",
        "    sparse_pred = tf.sparse.retain(sparse_pred, \n",
        "                                   tf.not_equal(sparse_pred .values, -1))\n",
        "    distance = tf.edit_distance(sparse_pred, sparse_true, normalize=True)\n",
        "\n",
        "    self.error_rate.assign_add(tf.reduce_sum(distance))\n",
        "    self.counter.assign_add(tf.cast(len(y_true), tf.float32))\n",
        "\n",
        "  def result(self):\n",
        "    return tf.math.divide_no_nan(self.error_rate, self.counter)\n",
        "\n",
        "  def reset_states(self):\n",
        "    # The state of the metric will be reset at the start of each epoch.\n",
        "    self.error_rate.assign(0.0)\n",
        "    self.counter.assign(0.0)\n"
      ],
      "execution_count": null,
      "outputs": []
    },
    {
      "cell_type": "code",
      "metadata": {
        "id": "8DBlO4L5Q1H-"
      },
      "source": [
        "class TokenEmbedding(layers.Layer):\n",
        "  def __init__(self, num_vocab=1000, maxlen=100, num_hid=64):\n",
        "    super().__init__()\n",
        "    self.num_vocab = num_vocab\n",
        "    self.maxlen = maxlen\n",
        "    self.num_hid = num_hid\n",
        "\n",
        "    self.emb = layers.Embedding(num_vocab, num_hid)\n",
        "    self.pos_emb = layers.Embedding(input_dim=maxlen, output_dim=num_hid)\n",
        "\n",
        "  def call(self, x):\n",
        "    maxlen = tf.shape(x)[-1]\n",
        "    x = self.emb(x)\n",
        "    positions = tf.range(start=0, limit=maxlen, delta=1)\n",
        "    positions = self.pos_emb(positions)\n",
        "    return x + positions\n",
        "\n",
        "  def get_config(self):\n",
        "    config = super().get_config()\n",
        "    config.update({\"num_vocab\": self.num_vocab,\n",
        "                    \"maxlen\": self.maxlen,\n",
        "                    \"num_hid\": self.num_hid})\n",
        "    return config\n",
        "\n",
        "  @classmethod\n",
        "  def from_config(cls, config):\n",
        "      return cls(**config)\n",
        "\n",
        "\n",
        "class SpeechFeatureEmbedding(layers.Layer):\n",
        "  def __init__(self, num_hid=64, maxlen=100):\n",
        "    super().__init__()\n",
        "    self.num_hid = num_hid\n",
        "    self.maxlen = maxlen\n",
        "\n",
        "    self.conv1 = tf.keras.layers.Conv1D(\n",
        "            num_hid, 11, strides=2, padding=\"same\", activation=\"relu\"\n",
        "        )\n",
        "    self.conv2 = tf.keras.layers.Conv1D(\n",
        "            num_hid, 11, strides=2, padding=\"same\", activation=\"relu\"\n",
        "        )\n",
        "    self.conv3 = tf.keras.layers.Conv1D(\n",
        "            num_hid, 11, strides=2, padding=\"same\", activation=\"relu\"\n",
        "        )\n",
        "    self.pos_emb = layers.Embedding(input_dim=maxlen, output_dim=num_hid)\n",
        "    \n",
        "  def call(self, x):\n",
        "    x = self.conv1(x)\n",
        "    x = self.conv2(x)\n",
        "    return self.conv3(x)\n",
        "\n",
        "  def get_config(self):\n",
        "    config = super().get_config()\n",
        "    config.update({\"num_hid\": self.num_hid,\n",
        "                    \"maxlen\": self.maxlen})\n",
        "    return config\n",
        "\n",
        "  @classmethod\n",
        "  def from_config(cls, config):\n",
        "    return cls(**config)"
      ],
      "execution_count": null,
      "outputs": []
    },
    {
      "cell_type": "code",
      "metadata": {
        "id": "KVZCcl_Gzdbt"
      },
      "source": [
        "class TransformerEncoder(layers.Layer):\n",
        "  def __init__(self, embed_dim, num_heads, feed_forward_dim, rate=0.1):\n",
        "    super().__init__()\n",
        "    self.embed_dim = embed_dim\n",
        "    self.num_heads = num_heads\n",
        "    self.feed_forward_dim = feed_forward_dim\n",
        "    self.rate = rate\n",
        "\n",
        "    self.att = layers.MultiHeadAttention(num_heads=num_heads, \n",
        "                                             key_dim=embed_dim)\n",
        "    self.ffn = keras.Sequential(\n",
        "            [\n",
        "                layers.Dense(feed_forward_dim, activation=\"relu\"),\n",
        "                layers.Dense(embed_dim),\n",
        "            ]\n",
        "        )\n",
        "    self.layernorm1 = layers.LayerNormalization(epsilon=1e-6)\n",
        "    self.layernorm2 = layers.LayerNormalization(epsilon=1e-6)\n",
        "    self.dropout1 = layers.Dropout(rate)\n",
        "    self.dropout2 = layers.Dropout(rate)\n",
        "\n",
        "  def call(self, inputs, training):\n",
        "    attn_output = self.att(inputs, inputs)\n",
        "    attn_output = self.dropout1(attn_output, training=training)\n",
        "    out1 = self.layernorm1(inputs + attn_output)\n",
        "    ffn_output = self.ffn(out1)\n",
        "    ffn_output = self.dropout2(ffn_output, training=training)\n",
        "    return self.layernorm2(out1 + ffn_output)\n",
        "\n",
        "  def get_config(self):\n",
        "    config = super().get_config()\n",
        "    config.update({\"embed_dim\": self.embed_dim,\n",
        "                    \"num_heads\": self.num_heads,\n",
        "                    \"feed_forward_dim\": self.feed_forward_dim,\n",
        "                     \"rate\": self.rate})\n",
        "    return config\n",
        "\n",
        "  @classmethod\n",
        "  def from_config(cls, config):\n",
        "    return cls(**config)"
      ],
      "execution_count": null,
      "outputs": []
    },
    {
      "cell_type": "code",
      "metadata": {
        "id": "HALtJDoi1H_K"
      },
      "source": [
        "class TransformerDecoder(layers.Layer):\n",
        "  def __init__(self, embed_dim, num_heads, feed_forward_dim, **kwargs):\n",
        "    super().__init__(**kwargs)\n",
        "    self.embed_dim = embed_dim\n",
        "    self.num_heads = num_heads\n",
        "    self.feed_forward_dim = feed_forward_dim\n",
        "\n",
        "    self.layernorm1 = layers.LayerNormalization(epsilon=1e-6)\n",
        "    self.layernorm2 = layers.LayerNormalization(epsilon=1e-6)\n",
        "    self.layernorm3 = layers.LayerNormalization(epsilon=1e-6)\n",
        "    self.self_att = layers.MultiHeadAttention(\n",
        "            num_heads=num_heads, key_dim=embed_dim\n",
        "        )\n",
        "    self.enc_att = layers.MultiHeadAttention(num_heads=num_heads, key_dim=embed_dim)\n",
        "    self.self_dropout = layers.Dropout(0.5)\n",
        "    self.enc_dropout = layers.Dropout(0.1)\n",
        "    self.ffn_dropout = layers.Dropout(0.1)\n",
        "    self.ffn = keras.Sequential(\n",
        "            [\n",
        "                layers.Dense(feed_forward_dim, activation=\"relu\"),\n",
        "                layers.Dense(embed_dim),\n",
        "            ]\n",
        "        )\n",
        "    \n",
        " \n",
        "  def causal_attention_mask(self, batch_size, n_dest, n_src, dtype):\n",
        "    i = tf.range(n_dest)[:, None]\n",
        "    j = tf.range(n_src)\n",
        "    m = i >= j - n_src + n_dest\n",
        "    mask = tf.cast(m, dtype)\n",
        "    mask = tf.reshape(mask, [1, n_dest, n_src])\n",
        "    mult = tf.concat(\n",
        "        [tf.expand_dims(batch_size, -1), tf.constant([1, 1], dtype=tf.int32)], 0\n",
        "    )\n",
        "    return tf.tile(mask, mult)\n",
        "\n",
        "  def call(self, enc_out, target):\n",
        "    input_shape = tf.shape(target)\n",
        "    batch_size = input_shape[0]\n",
        "    seq_len = input_shape[1]\n",
        "    causal_mask = self.causal_attention_mask(batch_size, seq_len, seq_len, tf.bool)\n",
        "    target_att = self.self_att(target, target, attention_mask=causal_mask)\n",
        "    target_norm = self.layernorm1(target + self.self_dropout(target_att))\n",
        "    enc_out = self.enc_att(target_norm, enc_out)\n",
        "    enc_out_norm = self.layernorm2(self.enc_dropout(enc_out) + target_norm)\n",
        "    ffn_out = self.ffn(enc_out_norm)\n",
        "    ffn_out_norm = self.layernorm3(enc_out_norm + self.ffn_dropout(ffn_out))\n",
        "    return ffn_out_norm\n",
        "\n",
        "  def get_config(self):\n",
        "    config = super().get_config()\n",
        "    config.update({\"embed_dim\": self.embed_dim,\n",
        "                    \"num_heads\": self.num_heads,\n",
        "                    \"feed_forward_dim\": self.feed_forward_dim})\n",
        "    return config\n",
        "\n",
        "  @classmethod\n",
        "  def from_config(cls, config):\n",
        "    return cls(**config)\n"
      ],
      "execution_count": null,
      "outputs": []
    },
    {
      "cell_type": "code",
      "metadata": {
        "id": "NgR0GA6sFd_c"
      },
      "source": [
        "class Transformer(keras.Model):\n",
        "  def __init__(\n",
        "      self,\n",
        "      num_hid=64,\n",
        "      num_head=2,\n",
        "      num_feed_forward=128,\n",
        "      source_maxlen=100,\n",
        "      target_maxlen=100,\n",
        "      num_layers_enc=4,\n",
        "      num_layers_dec=1,\n",
        "      num_classes=10,\n",
        "    ):\n",
        "      super().__init__()\n",
        "      self.num_hid = num_hid\n",
        "      self.num_head = num_head\n",
        "      self.num_feed_forward = num_feed_forward\n",
        "      self.source_maxlen = source_maxlen\n",
        "      self.target_maxlen = target_maxlen\n",
        "      self.num_layers_enc = num_layers_enc\n",
        "      self.num_layers_dec = num_layers_dec\n",
        "      self.target_maxlen = target_maxlen\n",
        "      self.num_classes = num_classes\n",
        "\n",
        "      self.loss_metric = keras.metrics.Mean(name=\"loss\")\n",
        "      self.cer = CharacterErrorRate()\n",
        "\n",
        "      self.enc_input = SpeechFeatureEmbedding(num_hid=num_hid, maxlen=source_maxlen)\n",
        "      self.dec_input = TokenEmbedding(\n",
        "          num_vocab=num_classes, maxlen=target_maxlen, num_hid=num_hid\n",
        "      )\n",
        "\n",
        "      self.encoder = keras.Sequential(\n",
        "            [self.enc_input]\n",
        "            + [\n",
        "                TransformerEncoder(num_hid, num_head, num_feed_forward)\n",
        "                for _ in range(num_layers_enc)\n",
        "            ]\n",
        "        )\n",
        "\n",
        "      for i in range(num_layers_dec):\n",
        "        setattr(\n",
        "            self,\n",
        "            f\"dec_layer_{i}\",\n",
        "            TransformerDecoder(num_hid, num_head, num_feed_forward),\n",
        "        )\n",
        "\n",
        "      self.classifier = layers.Dense(num_classes)\n",
        "\n",
        "      serialized_token_emb = keras.layers.serialize(self.dec_input)\n",
        "      serialized_speech_emb = keras.layers.serialize(self.enc_input)\n",
        "      serialized_trafo_decoder = keras.layers.serialize(TransformerEncoder(num_hid, \n",
        "                                                                           num_head, \n",
        "                                                                           num_feed_forward))\n",
        "      serialized_trafo_encoder = keras.layers.serialize(TransformerDecoder(num_hid, \n",
        "                                                                           num_head, \n",
        "                                                                           num_feed_forward))\n",
        "\n",
        "  def decode(self, enc_out, target):\n",
        "    y = self.dec_input(target)\n",
        "    for i in range(self.num_layers_dec):\n",
        "      y = getattr(self, f\"dec_layer_{i}\")(enc_out, y)\n",
        "    return y\n",
        "\n",
        "  def call(self, inputs):\n",
        "    source = inputs[0]\n",
        "    target = inputs[1]\n",
        "    x = self.encoder(source)\n",
        "    y = self.decode(x, target)\n",
        "    return self.classifier(y)\n",
        "\n",
        "  @property\n",
        "  def metrics(self):\n",
        "    return [self.loss_metric, self.cer]\n",
        " \n",
        "  def train_step(self, batch):\n",
        "    \"\"\"Processes one batch inside model.fit().\"\"\"\n",
        "    batch = dict(source = batch[0], target = batch[1])\n",
        "    source = batch[\"source\"]\n",
        "    target = batch[\"target\"]\n",
        "    dec_input = target[:, :-1]\n",
        "    dec_target = target[:, 1:]\n",
        "    with tf.GradientTape() as tape:\n",
        "      preds = self([source, dec_input])\n",
        "      one_hot = tf.one_hot(dec_target, depth=self.num_classes)\n",
        "      mask = tf.math.logical_not(tf.math.equal(dec_target, 0))\n",
        "      loss = self.compiled_loss(one_hot, preds, sample_weight=mask)\n",
        "    trainable_vars = self.trainable_variables\n",
        "    gradients = tape.gradient(loss, trainable_vars)\n",
        "    self.optimizer.apply_gradients(zip(gradients, trainable_vars))\n",
        "    self.cer.update_state(dec_target, preds)\n",
        "    self.loss_metric.update_state(loss)\n",
        "    return {\"loss\": self.loss_metric.result(), \n",
        "      \"cer\": tf.math.subtract(self.cer.result(), tf.constant(1.0, tf.float32))}\n",
        " \n",
        "  def test_step(self, batch):\n",
        "    batch = dict(source = batch[0], target = batch[1])\n",
        "    source = batch[\"source\"]\n",
        "    target = batch[\"target\"]\n",
        "    dec_input = target[:, :-1]\n",
        "    dec_target = target[:, 1:]\n",
        "    preds = self([source, dec_input])\n",
        "    one_hot = tf.one_hot(dec_target, depth=self.num_classes)\n",
        "    mask = tf.math.logical_not(tf.math.equal(dec_target, 0))\n",
        "    loss = self.compiled_loss(one_hot, preds, sample_weight=mask)\n",
        "    self.loss_metric.update_state(loss)\n",
        "    return {\"loss\": self.loss_metric.result()}\n",
        "\n",
        "  def generate(self, source):\n",
        "    \"\"\"Performs inference over one batch of inputs using greedy decoding.\"\"\"\n",
        "    bs = tf.shape(source)[0]\n",
        "    enc = self.encoder(source)\n",
        "    dec_input = tf.ones((bs, 1), dtype=tf.int32) * tf.constant(2)\n",
        "    for i in range(self.target_maxlen - 1):\n",
        "      dec_out = self.decode(enc, dec_input)\n",
        "      logits = self.classifier(dec_out)\n",
        "      logits = tf.argmax(logits, axis=-1, output_type=tf.int32)\n",
        "      last_logit = tf.expand_dims(logits[:, -1], axis=-1)\n",
        "      dec_input = tf.concat([dec_input, last_logit], axis=-1)\n",
        "    return dec_input\n",
        "\n",
        "  def get_config(self):\n",
        "    config = super().get_config()\n",
        "    config_content={}\n",
        "    config_content.update(serialized_token_emb)\n",
        "    config_content.update(serialized_speech_emb)\n",
        "    config_content.update(serialized_trafo_decoder)\n",
        "    config_content.update(serialized_trafo_encoder)\n",
        "    config.update(config_content)\n",
        "    return config \n",
        "\n",
        "  @classmethod\n",
        "  def from_config(cls, config):\n",
        "    return cls(**config)"
      ],
      "execution_count": null,
      "outputs": []
    },
    {
      "cell_type": "markdown",
      "metadata": {
        "id": "-mBVv4038co1"
      },
      "source": [
        "### Extract"
      ]
    },
    {
      "cell_type": "code",
      "metadata": {
        "id": "sSDFAddr8Ad0"
      },
      "source": [
        "class TrainTestDataset:\n",
        "  def organize_file(self, origin, new_path, newer_path, zip_file):\n",
        "    get_clean_file = GetCleanFile(origin,new_path,newer_path, zip_file)\n",
        "    dir_names = get_clean_file().get_path().get_subdirectory()\n",
        "    get_clean_file.rename_and_move_dir(dir_names)\n",
        "    get_clean_file.delete_directory()\n",
        "\n",
        "    subdir = tf.io.gfile.glob(newer_path + '/*/*.txt')\n",
        "    subdir_1 = tf.io.gfile.glob(newer_path + '/*/*.flac')\n",
        "    get_clean_file.clean_label(subdir)\n",
        "    return self\n",
        "\n",
        "  def prepare_dataset(self, path):\n",
        "    audio_file= sorted(tf.io.gfile.glob(str(newer_path) + '/*/*.flac'))\n",
        "    audio_file_wav = sorted(tf.io.gfile.glob(str(newer_path) + '/*/*.wav'))\n",
        "    audio_file.extend(audio_file_wav)\n",
        "    audio_file = np.array(audio_file)\n",
        "    text_file = sorted(np.array(tf.io.gfile.glob(str(newer_path) + '/*/*.txt')))\n",
        "    list_ds = tf.data.Dataset.from_tensor_slices((audio_file, text_file))\n",
        "    return list_ds\n",
        "\n",
        "  def preprocess_dataset(self, list_ds, train):\n",
        "    AUTOTUNE = tf.data.experimental.AUTOTUNE\n",
        "    get_waveform_label = GetWaveformLabel()\n",
        "    get_process_data_label = GetProcessDataLabel()\n",
        "  \n",
        "    waveform_ds = list_ds.map(get_waveform_label.get_waveform_label, \n",
        "                            num_parallel_calls=AUTOTUNE)\n",
        "    waveform_ds = waveform_ds.prefetch(AUTOTUNE)\n",
        "\n",
        "    spectrogram_ds = waveform_ds.map(\n",
        "        lambda x,y : get_process_data_label.get_process_label(x, y, train), \n",
        "        num_parallel_calls=AUTOTUNE)\n",
        "\n",
        "    return spectrogram_ds\n"
      ],
      "execution_count": null,
      "outputs": []
    },
    {
      "cell_type": "code",
      "metadata": {
        "colab": {
          "base_uri": "https://localhost:8080/"
        },
        "id": "w_pQH3jPGomF",
        "outputId": "84ff0676-90a3-454f-946c-de511ec7c00f"
      },
      "source": [
        "origin = 'https://www.openslr.org/resources/12/train-clean-100.tar.gz'\n",
        "new_path = './data'\n",
        "newer_path = './DATA'\n",
        "\n",
        "val_origin = 'https://www.openslr.org/resources/12/test-clean.tar.gz'\n",
        "val_new_path = './val_data'\n",
        "val_newer_path = './VAL_DATA'\n",
        "\n",
        "lj_path = './datasets'\n",
        "data_dirname = 'LJdata'\n",
        "\n",
        "create_train_ds = TrainTestDataset()\n",
        "create_test_ds = TrainTestDataset()\n",
        "filter_train_ds = FileFilter(newer_path)\n",
        "filter_test_ds = FileFilter(val_newer_path)\n",
        "\n",
        "if not os.path.exists(newer_path):\n",
        "  create_train_ds.organize_file(origin, new_path, newer_path, 'train.zip')\n",
        "filter_train_ds.filter_file() if filter_train_ds.done else print('filter has been done')\n",
        "load_LJdata(lj_path, newer_path, data_dirname)\n",
        "list_ds = create_train_ds.prepare_dataset(newer_path)\n",
        "train_ds = create_train_ds.preprocess_dataset(list_ds, train=False)\n",
        "\n",
        "if not os.path.exists(val_newer_path):\n",
        "  create_test_ds.organize_file(val_origin, val_new_path, val_newer_path, 'test.zip')\n",
        "filter_test_ds.filter_file() if filter_test_ds.done else print('filter has been done')\n",
        "val_list_ds = create_test_ds.prepare_dataset(val_newer_path)\n",
        "val_ds = create_test_ds.preprocess_dataset(val_list_ds, train=False)\n",
        "\n",
        "train_ds = train_ds.shuffle(1024).batch(64)\n",
        "val_ds = val_ds.batch(32)"
      ],
      "execution_count": null,
      "outputs": [
        {
          "output_type": "stream",
          "text": [
            "Downloading data from https://data.keithito.com/data/speech/LJSpeech-1.1.tar.bz2\n",
            "2748579840/2748572632 [==============================] - 40s 0us/step\n"
          ],
          "name": "stdout"
        },
        {
          "output_type": "stream",
          "text": [
            "/usr/local/lib/python3.7/dist-packages/ipykernel_launcher.py:28: UserWarning: Creating resources inside a function passed to Dataset.map() is not supported. Create each resource outside the function, and capture it inside the function to use it.\n"
          ],
          "name": "stderr"
        },
        {
          "output_type": "stream",
          "text": [
            "Downloading data from https://www.openslr.org/resources/12/test-clean.tar.gz\n",
            "346669056/346663984 [==============================] - 11s 0us/step\n"
          ],
          "name": "stdout"
        }
      ]
    },
    {
      "cell_type": "code",
      "metadata": {
        "id": "VM5NOd1AVqRh"
      },
      "source": [
        "batch = next(iter(train_ds))"
      ],
      "execution_count": null,
      "outputs": []
    },
    {
      "cell_type": "code",
      "metadata": {
        "colab": {
          "base_uri": "https://localhost:8080/"
        },
        "id": "Jk2OnYC9baaY",
        "outputId": "1b0cc940-2d1b-408d-9359-62cb0ccd2b55"
      },
      "source": [
        "import librosa.display\n",
        "FIG_SIZE = (15,10)\n",
        "\n",
        "plt.figure(figsize=FIG_SIZE)\n",
        "librosa.display.specshow(batch[0][50].numpy().T, sr=22050, hop_length=80)\n",
        "plt.xlabel(\"Time\")\n",
        "plt.ylabel(\"Frequency\")\n",
        "plt.colorbar()\n",
        "plt.title(\"Spectrogram\")"
      ],
      "execution_count": null,
      "outputs": [
        {
          "output_type": "execute_result",
          "data": {
            "text/plain": [
              "Text(0.5, 1.0, 'Spectrogram')"
            ]
          },
          "metadata": {
            "tags": []
          },
          "execution_count": 34
        },
        {
          "output_type": "display_data",
          "data": {
            "image/png": "[encoded data removed]",
            "text/plain": [
              "<Figure size 1080x720 with 2 Axes>"
            ]
          },
          "metadata": {
            "tags": [],
            "needs_background": "light"
          }
        }
      ]
    },
    {
      "cell_type": "markdown",
      "metadata": {
        "id": "-TMCwYcQjeNB"
      },
      "source": [
        "### Training"
      ]
    },
    {
      "cell_type": "code",
      "metadata": {
        "id": "Qnqfj2t1z4SL"
      },
      "source": [
        "class CustomSchedule(tf.keras.optimizers.schedules.LearningRateSchedule):\n",
        "  def __init__(self, d_model, warmup_steps=4000):\n",
        "    super().__init__()\n",
        "    self.d_model = d_model\n",
        "    self.d_model = tf.cast(self.d_model, tf.float32)\n",
        "    self.warmup_steps = warmup_steps\n",
        "\n",
        "  def __call__(self, step):\n",
        "    arg1 = tf.math.rsqrt(step)\n",
        "    arg2 = step * (self.warmup_steps ** -1.5)\n",
        "\n",
        "    return tf.math.rsqrt(self.d_model) * tf.math.minimum(arg1, arg2)"
      ],
      "execution_count": null,
      "outputs": []
    },
    {
      "cell_type": "code",
      "metadata": {
        "id": "grMCEZwSPf3A"
      },
      "source": [
        "class SaveCheckpoint(tf.keras.callbacks.Callback):\n",
        "  def __init__(self, ckpt_path, model, optimizer):\n",
        "    super().__init__()\n",
        "    self.ckpt_path = ckpt_path\n",
        "    self.model = model\n",
        "    self.optimizer = optimizer\n",
        "\n",
        "  def on_epoch_end(self, epoch, logs={}):\n",
        "    ckpt = tf.train.Checkpoint(model=self.model,\n",
        "                           optimizer=self.optimizer)\n",
        "\n",
        "    ckpt_manager = tf.train.CheckpointManager(ckpt, self.ckpt_path, max_to_keep=5)\n",
        "    ckpt_save_path = ckpt_manager.save()\n",
        "    print(f'Saving checkpoint for epoch {epoch+1} at {self.ckpt_path}')"
      ],
      "execution_count": null,
      "outputs": []
    },
    {
      "cell_type": "code",
      "metadata": {
        "id": "n22kya4lHGlx"
      },
      "source": [
        "def create_model(optimizer):\n",
        "  model = Transformer(\n",
        "      num_hid=256,\n",
        "      num_head=4,\n",
        "      num_feed_forward=1024,\n",
        "      target_maxlen=200,\n",
        "      num_layers_enc=4,\n",
        "      num_layers_dec=1,\n",
        "      num_classes=35,\n",
        "    )\n",
        "  loss_fn = tf.keras.losses.CategoricalCrossentropy(\n",
        "      from_logits=True, label_smoothing=0.1,\n",
        "    )\n",
        "  model.compile(optimizer=optimizer, loss=loss_fn, metrics=[CharacterErrorRate()])\n",
        "  \n",
        "  return model"
      ],
      "execution_count": null,
      "outputs": []
    },
    {
      "cell_type": "markdown",
      "metadata": {
        "id": "2s2oQX0L1yoo"
      },
      "source": [
        "Run cell dibawah buat train model"
      ]
    },
    {
      "cell_type": "code",
      "metadata": {
        "id": "JzVDKSv803Hu"
      },
      "source": [
        "checkpoint_path = \"./training/cp.ckpt\"\n",
        "checkpoint_dir = os.path.dirname(checkpoint_path)\n",
        "\n",
        "# Create a callback that saves the model's weights\n",
        "cp_callback = tf.keras.callbacks.ModelCheckpoint(filepath=checkpoint_path,\n",
        "                                                 save_weights_only=True,\n",
        "                                                 verbose=1)"
      ],
      "execution_count": null,
      "outputs": []
    },
    {
      "cell_type": "code",
      "metadata": {
        "id": "deFqQUGstztc"
      },
      "source": [
        "learning_rate = CustomSchedule(d_model=256)\n",
        "optimizer = keras.optimizers.Adam(learning_rate, beta_1=0.9, beta_2=0.98,\n",
        "                                     epsilon=1e-9)\n",
        "model = create_model(optimizer)\n",
        "path = './checkpoint/train'\n",
        "ckpt_callback = SaveCheckpoint(path, model, optimizer)\n",
        "\n",
        "epochs = 10\n",
        "\n",
        "history = model.fit(train_ds, validation_data=val_ds,\n",
        "                    epochs=epochs,\n",
        "                    callbacks = [cp_callback, ckpt_callback])"
      ],
      "execution_count": null,
      "outputs": []
    },
    {
      "cell_type": "markdown",
      "metadata": {
        "id": "4HTHNobi14fv"
      },
      "source": [
        "Kalau model belum selesai ditrain, save dulu file checkpointnya terus run kode dibawah"
      ]
    },
    {
      "cell_type": "code",
      "metadata": {
        "id": "-jOt_E7D2Ul1",
        "colab": {
          "base_uri": "https://localhost:8080/"
        },
        "outputId": "9d08b436-af57-4fff-c8f9-f9f707213beb"
      },
      "source": [
        "learning_rate = CustomSchedule(d_model=256)\n",
        "optimizer = keras.optimizers.Adam(learning_rate, beta_1=0.9, beta_2=0.98,\n",
        "                                     epsilon=1e-9)\n",
        "model = create_model(optimizer)\n",
        "\n",
        "# Load the previously saved weights\n",
        "model.load_weights('./training/cp.ckpt')\n",
        "\n",
        "epochs=1\n",
        "\n",
        "history = model.fit(train_ds, steps_per_epoch=50,\n",
        "                    epochs=epochs, verbose=1)"
      ],
      "execution_count": null,
      "outputs": [
        {
          "output_type": "stream",
          "text": [
            "50/50 [==============================] - 180s 2s/step - loss: 0.4735 - cer: 0.3267\n"
          ],
          "name": "stdout"
        }
      ]
    },
    {
      "cell_type": "markdown",
      "metadata": {
        "id": "uUsbk3cR4wWJ"
      },
      "source": [
        "### Test Model"
      ]
    },
    {
      "cell_type": "code",
      "metadata": {
        "id": "w2dLDm7l5L3a"
      },
      "source": [
        "def inference(model, spectrogram):\n",
        "  dec_input = tf.constant(2, tf.int32)[tf.newaxis]\n",
        "  label = model.generate(spectrogram)\n",
        "  label = tf.squeeze(label, axis=0)\n",
        "\n",
        "  for i in label[1:]:\n",
        "    if tf.math.logical_not(tf.math.equal(i, 3)):\n",
        "      i = tf.expand_dims(i, axis=0)\n",
        "      dec_input = tf.concat([dec_input, i], axis=0)\n",
        "    else:\n",
        "      break\n",
        "\n",
        "  decoding = EncodingDecoding()\n",
        "  label = decoding.decode_label(tf.cast(dec_input,dtype=tf.int64))\n",
        "  \n",
        "  label = b''.join(label.numpy()).decode('utf-8')\n",
        "  return label"
      ],
      "execution_count": null,
      "outputs": []
    },
    {
      "cell_type": "code",
      "metadata": {
        "id": "VsMKgsVP4vz1"
      },
      "source": [
        "decoding = EncodingDecoding()\n",
        "audio_processing = AudioDataProcessing()\n",
        "\n",
        "# Convert audio file to db-scale spectrogram\n",
        "waveform = decoding.decode_audio('/content/DATA/LJdata/LJ001-0004.wav')\n",
        "spectrogram = audio_processing.get_spectrogram(waveform)\n",
        "x = tf.expand_dims(spectrogram, axis=0)"
      ],
      "execution_count": null,
      "outputs": []
    },
    {
      "cell_type": "code",
      "metadata": {
        "colab": {
          "base_uri": "https://localhost:8080/",
          "height": 35
        },
        "id": "B0Bpta4t54oZ",
        "outputId": "28186f0b-c909-4e3e-a703-568036c007ca"
      },
      "source": [
        "inference(model, x)"
      ],
      "execution_count": null,
      "outputs": [
        {
          "output_type": "execute_result",
          "data": {
            "application/vnd.google.colaboratory.intrinsic+json": {
              "type": "string"
            },
            "text/plain": [
              "'<produced the blooks, which were the immediate predecessors of the true printed book,'"
            ]
          },
          "metadata": {
            "tags": []
          },
          "execution_count": 29
        }
      ]
    },
    {
      "cell_type": "markdown",
      "metadata": {
        "id": "8VEHK5RQHQ0V"
      },
      "source": [
        "### Saved weight"
      ]
    },
    {
      "cell_type": "code",
      "metadata": {
        "id": "2gm-wBFzuvdu"
      },
      "source": [
        "model.save_weights('./weights/my_weights', save_format='tf')"
      ],
      "execution_count": null,
      "outputs": []
    },
    {
      "cell_type": "code",
      "metadata": {
        "id": "b-lx51zaskQg"
      },
      "source": [
        "!tar -zcvf weights.tar.gz /content/weights"
      ],
      "execution_count": null,
      "outputs": []
    },
    {
      "cell_type": "code",
      "metadata": {
        "id": "8RCzVSqewW8r"
      },
      "source": [
        "!mv /content/weights.tar.gz /content/drive/MyDrive/Weight"
      ],
      "execution_count": null,
      "outputs": []
    }
  ]
}